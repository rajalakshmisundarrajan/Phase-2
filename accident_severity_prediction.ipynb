{
 "cells": [
  {
   "cell_type": "code",
   "execution_count": null,
   "id": "cell-imports",
   "metadata": {},
   "outputs": [],
   "source": [
    "# STEP 1: IMPORT LIBRARIES\n",
    "import pandas as pd\n",
    "import numpy as np\n",
    "import matplotlib.pyplot as plt\n",
    "import seaborn as sns\n",
    "\n",
    "from sklearn.model_selection import train_test_split\n",
    "from sklearn.preprocessing import LabelEncoder, StandardScaler\n",
    "from sklearn.ensemble import RandomForestClassifier\n",
    "from sklearn.metrics import classification_report, confusion_matrix, accuracy_score\n",
    "\n",
    "%matplotlib inline\n",
    "sns.set(style=\"whitegrid\")"
   ]
  },
  {
   "cell_type": "code",
   "execution_count": null,
   "id": "cell-upload",
   "metadata": {},
   "outputs": [],
   "source": [
    "# STEP 2: LOAD DATASET\n",
    "from google.colab import files\n",
    "uploaded = files.upload()\n",
    "df = pd.read_csv(next(iter(uploaded)))"
   ]
  },
  {
   "cell_type": "code",
   "execution_count": null,
   "id": "cell-preprocessing",
   "metadata": {},
   "outputs": [],
   "source": [
    "# STEP 3: DATA PREPROCESSING\n",
    "df.fillna(method='ffill', inplace=True)\n",
    "df.drop(columns=['Accident_ID', 'Report_Number'], errors='ignore', inplace=True)\n",
    "categorical_cols = df.select_dtypes(include='object').columns\n",
    "le = LabelEncoder()\n",
    "for col in categorical_cols:\n",
    "    df[col] = le.fit_transform(df[col])\n",
    "scaler = StandardScaler()\n",
    "num_cols = df.select_dtypes(include=np.number).columns.drop('Accident_Severity')\n",
    "df[num_cols] = scaler.fit_transform(df[num_cols])"
   ]
  },
  {
   "cell_type": "code",
   "execution_count": null,
   "id": "cell-feature-eng",
   "metadata": {},
   "outputs": [],
   "source": [
    "# STEP 4: FEATURE ENGINEERING\n",
    "df['Hour'] = pd.to_datetime(df['Time'], errors='coerce').dt.hour.fillna(0).astype(int)\n",
    "df['Day_of_Week'] = pd.to_datetime(df['Date'], errors='coerce').dt.dayofweek.fillna(0).astype(int)\n",
    "df['Is_Weekend'] = df['Day_of_Week'].isin([5, 6]).astype(int)\n",
    "df['Is_Night'] = df['Light_Conditions'].isin(['Darkness', 'Dark']).astype(int)\n",
    "df['Is_Bad_Weather'] = df['Weather_Conditions'].isin(['Rain', 'Snow', 'Fog']).astype(int)"
   ]
  },
  {
   "cell_type": "code",
   "execution_count": null,
   "id": "cell-train-test",
   "metadata": {},
   "outputs": [],
   "source": [
    "# STEP 5: TRAIN-TEST SPLIT\n",
    "X = df.drop('Accident_Severity', axis=1)\n",
    "y = df['Accident_Severity']\n",
    "X_train, X_test, y_train, y_test = train_test_split(X, y, test_size=0.2, random_state=42)"
   ]
  },
  {
   "cell_type": "code",
   "execution_count": null,
   "id": "cell-model-train",
   "metadata": {},
   "outputs": [],
   "source": [
    "# STEP 6: MODEL TRAINING\n",
    "model = RandomForestClassifier(n_estimators=100, random_state=42)\n",
    "model.fit(X_train, y_train)\n",
    "y_pred = model.predict(X_test)"
   ]
  },
  {
   "cell_type": "code",
   "execution_count": null,
   "id": "cell-evaluation",
   "metadata": {},
   "outputs": [],
   "source": [
    "# STEP 7: EVALUATION\n",
    "print(\"Accuracy:\", accuracy_score(y_test, y_pred))\n",
    "print(\"\\nClassification Report:\\n\", classification_report(y_test, y_pred))\n",
    "plt.figure(figsize=(6, 4))\n",
    "sns.heatmap(confusion_matrix(y_test, y_pred), annot=True, fmt='d', cmap='Blues')\n",
    "plt.title(\"Confusion Matrix\")\n",
    "plt.xlabel(\"Predicted\")\n",
    "plt.ylabel(\"Actual\")\n",
    "plt.show()"
   ]
  }
 ],
 "metadata": {
  "kernelspec": {
   "display_name": "Python 3",
   "language": "python",
   "name": "python3"
  },
  "language_info": {
   "name": "python",
   "version": "3.x"
  }
 },
 "nbformat": 4,
 "nbformat_minor": 5
}
